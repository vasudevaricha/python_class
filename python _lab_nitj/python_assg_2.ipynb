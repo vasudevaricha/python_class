{
 "cells": [
  {
   "cell_type": "code",
   "execution_count": 1,
   "id": "bc1ee220-2a69-4da4-8518-2c402343eac3",
   "metadata": {},
   "outputs": [
    {
     "name": "stdin",
     "output_type": "stream",
     "text": [
      "Enter a number 5\n"
     ]
    },
    {
     "name": "stdout",
     "output_type": "stream",
     "text": [
      "Positive No\n"
     ]
    }
   ],
   "source": [
    "#Q1)find a number is positive\n",
    "a =int(input(\"Enter a number\"))\n",
    "if(a==0):\n",
    "    print(\"No is zero\")\n",
    "if(a>0):# checks positive no\n",
    "    print(\"Positive No\")\n",
    "if(a<0):\n",
    "    print(\"Negative Number\")"
   ]
  },
  {
   "cell_type": "code",
   "execution_count": 2,
   "id": "c8266550-29b8-4908-a093-bd6d07d70199",
   "metadata": {},
   "outputs": [
    {
     "name": "stdin",
     "output_type": "stream",
     "text": [
      "Enter a number 65\n"
     ]
    },
    {
     "name": "stdout",
     "output_type": "stream",
     "text": [
      "The entered number is odd\n"
     ]
    }
   ],
   "source": [
    "#Q2) 2. Even or Odd\n",
    "b =int(input(\"Enter a number\"))\n",
    "result = \"even\" if(b%2==0) else \"odd\" # mod operator to check even no\n",
    "print(f\"The entered number is {result}\")"
   ]
  },
  {
   "cell_type": "code",
   "execution_count": 3,
   "id": "001c88f4-c6ac-4f93-a43c-16f4ee96e520",
   "metadata": {},
   "outputs": [
    {
     "name": "stdin",
     "output_type": "stream",
     "text": [
      "Enter number 1 45\n",
      "Enter number 2 33\n"
     ]
    },
    {
     "name": "stdout",
     "output_type": "stream",
     "text": [
      "Larger number is 45\n"
     ]
    }
   ],
   "source": [
    "#Q3) Largest of Two Numbers\n",
    "n1 = int(input(\"Enter number 1\"))\n",
    "n2 = int(input(\"Enter number 2\"))\n",
    "larger = n1 if(n1>n2) else n2 # checks for larger\n",
    "print(f\"Larger number is {larger}\")"
   ]
  },
  {
   "cell_type": "code",
   "execution_count": 6,
   "id": "21ed6e04-6cd5-4f62-a572-4d7a9e8f3998",
   "metadata": {},
   "outputs": [
    {
     "name": "stdin",
     "output_type": "stream",
     "text": [
      "Enter number -9\n"
     ]
    },
    {
     "name": "stdout",
     "output_type": "stream",
     "text": [
      "Absolute value of -9 is : 9\n"
     ]
    }
   ],
   "source": [
    "#Q4) Absolute Value\n",
    "import math #math class imported\n",
    "n = int(input(\"Enter number\"))\n",
    "abs_n=abs(n) # abs() function used to calculate value\n",
    "print(f\"Absolute value of {n} is : {abs_n}\")"
   ]
  },
  {
   "cell_type": "code",
   "execution_count": 7,
   "id": "0534dd51-78b8-4216-8e6f-8d25dff71b44",
   "metadata": {},
   "outputs": [
    {
     "name": "stdin",
     "output_type": "stream",
     "text": [
      "Enter your Age 5\n"
     ]
    },
    {
     "name": "stdout",
     "output_type": "stream",
     "text": [
      "You are ineligible to vote\n"
     ]
    }
   ],
   "source": [
    "#Q5) eligibilty for voting\n",
    "age =int(input(\"Enter your Age\"))\n",
    "if(age>=18): # people more than 18 are eligible to vote\n",
    "    print(\"You are eligible to vote\")\n",
    "else:\n",
    "    print(\"You are ineligible to vote\")"
   ]
  },
  {
   "cell_type": "code",
   "execution_count": 8,
   "id": "91d1d71f-3af3-482b-8fd8-9086d87dc508",
   "metadata": {},
   "outputs": [
    {
     "name": "stdin",
     "output_type": "stream",
     "text": [
      "Enter year 2021\n"
     ]
    },
    {
     "name": "stdout",
     "output_type": "stream",
     "text": [
      "2021 is a non leap year\n"
     ]
    }
   ],
   "source": [
    "#Q6) Leap Year Check\n",
    "year = int(input(\"Enter year\"))\n",
    "if(year%100==0): # checking when year is a multiple of 100\n",
    "    if(year%400==0):\n",
    "        print(f\"{year} is a leap year\")\n",
    "    else:\n",
    "        print(f\"{year} is a non leap year\")\n",
    "else: # checking where year is not a multiple of 100\n",
    "    if(year%4==0):\n",
    "        print(f\"{year} is a non leap year\")\n",
    "    else:\n",
    "        print(f\"{year} is a non leap year\")\n",
    "    "
   ]
  },
  {
   "cell_type": "code",
   "execution_count": 9,
   "id": "d1413439-7aef-417c-ba7d-cfe03e1a01b7",
   "metadata": {},
   "outputs": [
    {
     "name": "stdin",
     "output_type": "stream",
     "text": [
      "Enter marks 67\n"
     ]
    },
    {
     "name": "stdout",
     "output_type": "stream",
     "text": [
      "Pass\n"
     ]
    }
   ],
   "source": [
    "#Q7) Grade Calculation\n",
    "marks = int(input(\"Enter marks\"))\n",
    "res = \"Pass\" if(marks>=40) else \"Fail\" #if else used \n",
    "print(res)"
   ]
  },
  {
   "cell_type": "code",
   "execution_count": 11,
   "id": "0ba23c95-fd38-4494-9e2a-ed363bd63ca6",
   "metadata": {},
   "outputs": [
    {
     "name": "stdin",
     "output_type": "stream",
     "text": [
      "Enter number 35\n"
     ]
    },
    {
     "name": "stdout",
     "output_type": "stream",
     "text": [
      "35 is a multiple of five\n"
     ]
    }
   ],
   "source": [
    "# Q8) Multiple of 5\n",
    "x = int(input(\"Enter number\"))\n",
    "if(x%5==0):\n",
    "    print(f\"{x} is a multiple of five\")\n",
    "else:\n",
    "    print(f\"{x} is not a multiple of five\")"
   ]
  },
  {
   "cell_type": "code",
   "execution_count": 13,
   "id": "190ff3d1-3462-40d4-9d73-32d5aa6493c3",
   "metadata": {},
   "outputs": [
    {
     "name": "stdin",
     "output_type": "stream",
     "text": [
      "Enter an alphabet g\n"
     ]
    },
    {
     "name": "stdout",
     "output_type": "stream",
     "text": [
      "Character entered is in lower case\n"
     ]
    }
   ],
   "source": [
    "# Q9) Character Case Check\n",
    "ch = input(\"Enter an alphabet\")\n",
    "res1 = ch.isupper() #this function checks case of input\n",
    "if(res1==True):\n",
    "    print(\"Character entered is in upper case\")\n",
    "else:\n",
    "    print(\"Character entered is in lower case\")\n"
   ]
  },
  {
   "cell_type": "code",
   "execution_count": 15,
   "id": "31921160-665b-445c-b4bf-de44090b8fd2",
   "metadata": {},
   "outputs": [
    {
     "name": "stdin",
     "output_type": "stream",
     "text": [
      "Enter purchase amount 5500\n"
     ]
    },
    {
     "name": "stdout",
     "output_type": "stream",
     "text": [
      "Final Amount after discount is 4950.0\n"
     ]
    }
   ],
   "source": [
    "# Q10) Discount Calculator\n",
    "amt = int(input(\"Enter purchase amount\"))\n",
    "if(amt>=1000):\n",
    "    dis = 0.10*amt # dis variable used to store discount\n",
    "    final_amt = amt-dis \n",
    "    print(f\"Final Amount after discount is {final_amt}\")\n",
    "else:\n",
    "    print(\"No discount\")"
   ]
  },
  {
   "cell_type": "code",
   "execution_count": null,
   "id": "d2249372-d4cf-427e-9c1f-4811d4d6e079",
   "metadata": {},
   "outputs": [],
   "source": []
  }
 ],
 "metadata": {
  "kernelspec": {
   "display_name": "Python 3 (ipykernel)",
   "language": "python",
   "name": "python3"
  },
  "language_info": {
   "codemirror_mode": {
    "name": "ipython",
    "version": 3
   },
   "file_extension": ".py",
   "mimetype": "text/x-python",
   "name": "python",
   "nbconvert_exporter": "python",
   "pygments_lexer": "ipython3",
   "version": "3.13.5"
  }
 },
 "nbformat": 4,
 "nbformat_minor": 5
}
