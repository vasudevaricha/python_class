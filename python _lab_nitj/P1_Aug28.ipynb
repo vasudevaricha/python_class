{
 "cells": [
  {
   "cell_type": "code",
   "execution_count": 2,
   "id": "83faace3-ec20-4361-8ad2-c2e7fac1f080",
   "metadata": {},
   "outputs": [
    {
     "name": "stdout",
     "output_type": "stream",
     "text": [
      "hello\n"
     ]
    }
   ],
   "source": [
    "print(\"hello\")"
   ]
  },
  {
   "cell_type": "code",
   "execution_count": 3,
   "id": "dd3449b7-316b-4e19-9136-f4c396bbe72a",
   "metadata": {},
   "outputs": [
    {
     "name": "stdout",
     "output_type": "stream",
     "text": [
      "sum =  19\n"
     ]
    }
   ],
   "source": [
    "a = 13\n",
    "b = 6\n",
    "c = a+b\n",
    "print(\"sum = \",  c)\n"
   ]
  },
  {
   "cell_type": "code",
   "execution_count": 6,
   "id": "3796aac8-df09-48bd-8afc-06e0a4e367d9",
   "metadata": {},
   "outputs": [
    {
     "name": "stdout",
     "output_type": "stream",
     "text": [
      "product is  78\n"
     ]
    }
   ],
   "source": [
    "d=a*b\n",
    "print(\"product is \", d)\n"
   ]
  },
  {
   "cell_type": "code",
   "execution_count": 9,
   "id": "02cb4a7c-4f79-4e1b-9cab-24d51b31e4e2",
   "metadata": {},
   "outputs": [
    {
     "name": "stdout",
     "output_type": "stream",
     "text": [
      "sum =, c\n"
     ]
    }
   ],
   "source": [
    "print(\"sum =, c\")"
   ]
  },
  {
   "cell_type": "code",
   "execution_count": 10,
   "id": "b5089ff0-3495-4078-8059-b024465f9c07",
   "metadata": {},
   "outputs": [
    {
     "name": "stdout",
     "output_type": "stream",
     "text": [
      "diffrence is  7\n"
     ]
    }
   ],
   "source": [
    "subs = a-b\n",
    "print('diffrence is ' ,subs)"
   ]
  },
  {
   "cell_type": "code",
   "execution_count": 12,
   "id": "e78b6be0-96dc-447b-98da-5430ac14b8b0",
   "metadata": {},
   "outputs": [
    {
     "name": "stdout",
     "output_type": "stream",
     "text": [
      "100\n"
     ]
    }
   ],
   "source": [
    "a=10\n",
    "b=2\n",
    "print(a**b)"
   ]
  },
  {
   "cell_type": "code",
   "execution_count": 13,
   "id": "aea6ff96-3013-4387-b037-0cbf427265b9",
   "metadata": {},
   "outputs": [
    {
     "name": "stdout",
     "output_type": "stream",
     "text": [
      "3.5\n"
     ]
    }
   ],
   "source": [
    "a=7\n",
    "b=2\n",
    "print(a/b)"
   ]
  },
  {
   "cell_type": "code",
   "execution_count": 14,
   "id": "14933e4b-a858-4475-9876-8c0420c4d335",
   "metadata": {},
   "outputs": [
    {
     "name": "stdout",
     "output_type": "stream",
     "text": [
      "3\n"
     ]
    }
   ],
   "source": [
    "print(a//b)"
   ]
  },
  {
   "cell_type": "code",
   "execution_count": 16,
   "id": "3d963b79-d723-4981-98e1-90a8f003b888",
   "metadata": {},
   "outputs": [
    {
     "name": "stdout",
     "output_type": "stream",
     "text": [
      "-5\n"
     ]
    }
   ],
   "source": [
    "x = -9\n",
    "y = 2\n",
    "print(x//y)"
   ]
  },
  {
   "cell_type": "code",
   "execution_count": 17,
   "id": "f4ef14fa-d891-492a-bc53-ce20af9f480f",
   "metadata": {},
   "outputs": [
    {
     "name": "stdout",
     "output_type": "stream",
     "text": [
      "0.1\n"
     ]
    }
   ],
   "source": [
    "print(10**-1)"
   ]
  },
  {
   "cell_type": "code",
   "execution_count": 18,
   "id": "4e93a09a-cfd5-403b-afe1-c694b361e9e9",
   "metadata": {},
   "outputs": [
    {
     "name": "stdout",
     "output_type": "stream",
     "text": [
      "0.5\n"
     ]
    }
   ],
   "source": [
    "print(2**-1)"
   ]
  },
  {
   "cell_type": "code",
   "execution_count": 19,
   "id": "54c19998-221b-4919-a8ee-9dfceb7e5e71",
   "metadata": {},
   "outputs": [
    {
     "name": "stdout",
     "output_type": "stream",
     "text": [
      "1\n"
     ]
    }
   ],
   "source": [
    "print(7**0)"
   ]
  },
  {
   "cell_type": "code",
   "execution_count": 20,
   "id": "6a3e2d23-fbf3-4a93-b8d3-b31e2898e195",
   "metadata": {},
   "outputs": [
    {
     "name": "stdout",
     "output_type": "stream",
     "text": [
      "1\n"
     ]
    }
   ],
   "source": [
    "print(7%2)"
   ]
  },
  {
   "cell_type": "code",
   "execution_count": 22,
   "id": "f4e47563-5cea-461b-bc97-40b62380f306",
   "metadata": {},
   "outputs": [
    {
     "name": "stdout",
     "output_type": "stream",
     "text": [
      "False\n"
     ]
    }
   ],
   "source": [
    "x=3\n",
    "y=2\n",
    "print(x==y)"
   ]
  },
  {
   "cell_type": "code",
   "execution_count": 26,
   "id": "19efff89-b41c-4de6-a4a5-c4beef7e7558",
   "metadata": {},
   "outputs": [
    {
     "name": "stdout",
     "output_type": "stream",
     "text": [
      "True\n"
     ]
    }
   ],
   "source": [
    "x=3\n",
    "y=2\n",
    "print(x>y)\n"
   ]
  },
  {
   "cell_type": "code",
   "execution_count": 25,
   "id": "2ddb5af0-da91-4fad-8e21-4ed73458ea35",
   "metadata": {},
   "outputs": [
    {
     "name": "stdout",
     "output_type": "stream",
     "text": [
      "False\n"
     ]
    }
   ],
   "source": [
    "print(x<y)"
   ]
  },
  {
   "cell_type": "code",
   "execution_count": 27,
   "id": "76345a49-33a8-4c17-b75a-1bfa82b77cc8",
   "metadata": {},
   "outputs": [
    {
     "name": "stdout",
     "output_type": "stream",
     "text": [
      "True\n"
     ]
    }
   ],
   "source": [
    "print(x!=y)"
   ]
  },
  {
   "cell_type": "code",
   "execution_count": 28,
   "id": "7462cce2-f522-4f90-8a58-4bd90e3e7fd7",
   "metadata": {},
   "outputs": [
    {
     "name": "stdout",
     "output_type": "stream",
     "text": [
      "True\n"
     ]
    }
   ],
   "source": [
    "print(x>=y)"
   ]
  },
  {
   "cell_type": "raw",
   "id": "d7ee680c-28ec-4686-908e-baf05b0b3239",
   "metadata": {},
   "source": [
    "print(x<=y)"
   ]
  },
  {
   "cell_type": "code",
   "execution_count": 36,
   "id": "1271fc8a-3fc1-48e6-b82f-5139ea9b7f1b",
   "metadata": {},
   "outputs": [
    {
     "name": "stdout",
     "output_type": "stream",
     "text": [
      "17\n"
     ]
    }
   ],
   "source": [
    "p=15\n",
    "q=2\n",
    "p+=q\n",
    "print(p)"
   ]
  },
  {
   "cell_type": "code",
   "execution_count": 48,
   "id": "f877698d-9cc4-4ed0-a206-0e16d926918a",
   "metadata": {},
   "outputs": [
    {
     "name": "stdout",
     "output_type": "stream",
     "text": [
      "19\n"
     ]
    }
   ],
   "source": [
    "x=15\n",
    "x+=4\n",
    "print(x)"
   ]
  },
  {
   "cell_type": "code",
   "execution_count": 49,
   "id": "77fbe4ee-4e4f-4539-a241-2d65c5842fd1",
   "metadata": {},
   "outputs": [
    {
     "name": "stdout",
     "output_type": "stream",
     "text": [
      "11\n"
     ]
    }
   ],
   "source": [
    "x=15\n",
    "x-=4\n",
    "print(x)"
   ]
  },
  {
   "cell_type": "code",
   "execution_count": 43,
   "id": "3af17613-0942-4b7c-bf60-7a454d8af410",
   "metadata": {},
   "outputs": [
    {
     "name": "stdout",
     "output_type": "stream",
     "text": [
      "60\n"
     ]
    }
   ],
   "source": [
    "x=15\n",
    "x*=4\n",
    "print(x)"
   ]
  },
  {
   "cell_type": "code",
   "execution_count": 50,
   "id": "e342ceb0-82c3-428b-917f-5c8a300ebfe0",
   "metadata": {},
   "outputs": [
    {
     "name": "stdout",
     "output_type": "stream",
     "text": [
      "3.75\n"
     ]
    }
   ],
   "source": [
    "x=15\n",
    "x/=4\n",
    "print(x)"
   ]
  },
  {
   "cell_type": "code",
   "execution_count": 46,
   "id": "52fa9ea1-2df6-48f1-afb9-720d835ea6dd",
   "metadata": {},
   "outputs": [
    {
     "name": "stdout",
     "output_type": "stream",
     "text": [
      "15\n"
     ]
    }
   ],
   "source": [
    "s=15\n",
    "s//4\n",
    "print(s)"
   ]
  },
  {
   "cell_type": "code",
   "execution_count": 47,
   "id": "2dd86722-d241-4899-a0ba-d022f79e2750",
   "metadata": {},
   "outputs": [
    {
     "name": "stdout",
     "output_type": "stream",
     "text": [
      "3\n"
     ]
    }
   ],
   "source": [
    "k=15\n",
    "k%=4\n",
    "print(k)"
   ]
  },
  {
   "cell_type": "code",
   "execution_count": 51,
   "id": "05f1d372-d416-4832-8992-86585829dfe0",
   "metadata": {},
   "outputs": [
    {
     "name": "stdout",
     "output_type": "stream",
     "text": [
      "True\n"
     ]
    }
   ],
   "source": [
    "a=2\n",
    "b=10\n",
    "print(a<5 and b>9)"
   ]
  },
  {
   "cell_type": "code",
   "execution_count": 52,
   "id": "64cf32e1-0f5b-4a57-a3cf-59222ad6abd9",
   "metadata": {},
   "outputs": [
    {
     "name": "stdout",
     "output_type": "stream",
     "text": [
      "False\n"
     ]
    }
   ],
   "source": [
    "print(a>5 and b<9)"
   ]
  },
  {
   "cell_type": "code",
   "execution_count": 67,
   "id": "f6724eef-ad67-4449-bf08-7e2401d0f579",
   "metadata": {},
   "outputs": [
    {
     "name": "stdout",
     "output_type": "stream",
     "text": [
      "False\n"
     ]
    }
   ],
   "source": [
    "print(a>5 and b>19)"
   ]
  },
  {
   "cell_type": "code",
   "execution_count": 65,
   "id": "0da838bd-9bdd-4fd5-b509-97b7fda4a97e",
   "metadata": {},
   "outputs": [
    {
     "name": "stdout",
     "output_type": "stream",
     "text": [
      "True\n"
     ]
    }
   ],
   "source": [
    "print(a<5 or b>19)"
   ]
  },
  {
   "cell_type": "code",
   "execution_count": 63,
   "id": "2ffa3087-9236-4b3f-8346-299ceb0821ba",
   "metadata": {},
   "outputs": [
    {
     "name": "stdout",
     "output_type": "stream",
     "text": [
      "False\n"
     ]
    }
   ],
   "source": [
    "is_allowance = True\n",
    "print(not is_allowance)"
   ]
  },
  {
   "cell_type": "code",
   "execution_count": null,
   "id": "25e06a22-26e7-4618-b24c-ea3f5871d156",
   "metadata": {},
   "outputs": [],
   "source": []
  }
 ],
 "metadata": {
  "kernelspec": {
   "display_name": "Python 3 (ipykernel)",
   "language": "python",
   "name": "python3"
  },
  "language_info": {
   "codemirror_mode": {
    "name": "ipython",
    "version": 3
   },
   "file_extension": ".py",
   "mimetype": "text/x-python",
   "name": "python",
   "nbconvert_exporter": "python",
   "pygments_lexer": "ipython3",
   "version": "3.13.7"
  }
 },
 "nbformat": 4,
 "nbformat_minor": 5
}
