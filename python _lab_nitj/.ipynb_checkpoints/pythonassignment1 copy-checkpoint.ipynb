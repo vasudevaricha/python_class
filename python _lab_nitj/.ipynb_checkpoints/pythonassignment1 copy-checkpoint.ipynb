{
 "cells": [
  {
   "cell_type": "code",
   "execution_count": 51,
   "id": "b13e286b-a031-42b4-888b-787572bd3fb2",
   "metadata": {},
   "outputs": [
    {
     "name": "stdout",
     "output_type": "stream",
     "text": [
      "Sorted List is: [(2, 1), (1, 2), (2, 3), (4, 4), (2, 5)]\n"
     ]
    }
   ],
   "source": [
    "''' Q1) Write a Python program to get a list, sorted in increasing order by the last element in\n",
    "each tuple from a given list of non-empty tuples.\n",
    "Sample List : [(2, 5), (1, 2), (4, 4), (2, 3), (2, 1)]'''\n",
    "\n",
    "lst = [(2, 5), (1, 2), (4, 4), (2, 3), (2, 1)]\n",
    "for i in range(len(lst)):\n",
    "    for j in range(len(lst)-i-1):\n",
    "        if(lst[j][1]>lst[j+1][1]):\n",
    "            temp = lst[j]\n",
    "            lst[j] = lst[j+1]\n",
    "            lst[j+1] = temp\n",
    "            \n",
    "print(f\"Sorted List is: {lst}\")\n",
    "    "
   ]
  },
  {
   "cell_type": "code",
   "execution_count": 52,
   "id": "7d2d92cf-5b65-4a18-be84-61b713ec68f5",
   "metadata": {},
   "outputs": [
    {
     "name": "stdin",
     "output_type": "stream",
     "text": [
      "Enter a string restart\n"
     ]
    },
    {
     "name": "stdout",
     "output_type": "stream",
     "text": [
      "['r', 'e', 's', 't', 'a', 'r', 't']\n",
      "Modified string is:resta$t\n"
     ]
    }
   ],
   "source": [
    "'''Q2) Write a Python program to get a string from a given string where all occurrences of its\n",
    "first char have been changed to $;, except the first char itself. Sample String : restart;'''\n",
    "s1=input(\"Enter a string\")\n",
    "c1=s1[0]\n",
    "lst=list(s1)\n",
    "print(lst)\n",
    "for i in range(1,len(lst)):\n",
    "    if(lst[i]==c1):\n",
    "        lst[i]=\"$\"\n",
    "        \n",
    "delimiter=\"\"\n",
    "s2=delimiter.join(lst) # used to convert list to string\n",
    "print(\"Modified string is:\"+s2)\n",
    "    "
   ]
  },
  {
   "cell_type": "code",
   "execution_count": 53,
   "id": "9f7a3d9b-8099-43df-a24a-58a21dbd786a",
   "metadata": {},
   "outputs": [
    {
     "name": "stdin",
     "output_type": "stream",
     "text": [
      "enter a string life is not poor bad \n"
     ]
    },
    {
     "name": "stdout",
     "output_type": "stream",
     "text": [
      "life is good bad \n"
     ]
    }
   ],
   "source": [
    "'''Q3) Write a Python program to find the first appearance of the substring not and poor from\n",
    "a given string, if bad follows the poor, replace the whole not...poor substring with good.\n",
    "Return the resulting string.'''\n",
    "s1=input(\"enter a string\")\n",
    "l1=s1.split(\" \") # convert string to a list\n",
    "i1 =l1.index(\"not\") # contains index of not\n",
    "i2 =l1.index(\"poor\") # contains index of poor\n",
    "length=len(l1) # contains length of list created\n",
    "if((i2!=length-1) and (l1[i2+1]==\"bad\")):\n",
    "    if(i1<i2): # handles case when \"not\" comes before \"poor\" in the string\n",
    "       del l1[i1:i2+1]\n",
    "       l1.insert(i1,\"good\")\n",
    "    elif(i1>i2): # handles case when \"not\" comes after \"poor\" in the string\n",
    "        del l1[i2:i1+1]\n",
    "        l1.insert(i2,\"good\")\n",
    "        \n",
    "delimiter=\" \"\n",
    "s2 = delimiter.join(l1)\n",
    "print(s2)"
   ]
  },
  {
   "cell_type": "code",
   "execution_count": 50,
   "id": "4eb6bd9c-d37a-44ce-ae8e-051db5800076",
   "metadata": {},
   "outputs": [
    {
     "name": "stdin",
     "output_type": "stream",
     "text": [
      "Enter the number of entries you want to add to the dictionary:  3\n",
      "Enter the key:  d\n",
      "Enter the value:  4\n",
      "Enter the key:  g\n",
      "Enter the value:  1\n",
      "Enter the key:  k\n",
      "Enter the value:  0\n"
     ]
    },
    {
     "name": "stdout",
     "output_type": "stream",
     "text": [
      "Your created dictionary is:\n",
      "{'d': '4', 'g': '1', 'k': '0'}\n",
      "Dictionary sorted by values is: {'k': '0', 'g': '1', 'd': '4'}\n"
     ]
    }
   ],
   "source": [
    "# Q4) Write a python program to sort a dictionary by value.\n",
    "my_dict = {}\n",
    "num_entries = int(input(\"Enter the number of entries you want to add to the dictionary: \"))\n",
    "#creating dictionary\n",
    "for i in range(num_entries):\n",
    "    key = input(\"Enter the key: \")\n",
    "    value = input(\"Enter the value: \")\n",
    "    my_dict[key] = value\n",
    "\n",
    "print(\"Your created dictionary is:\")\n",
    "print(my_dict)\n",
    "l=list(my_dict.items()) # convert dictionary to a list whose elements are tuples containing the key value pair\n",
    "for m in range(len(l)):\n",
    "    for j in range(len(l)-m-1):\n",
    "        if(l[j][1]>l[j+1][1]):\n",
    "            temp = l[j]\n",
    "            l[j] = l[j+1]\n",
    "            l[j+1] = temp\n",
    "my_dict_sorted = dict(l)\n",
    "print(f\"Dictionary sorted by values is: {my_dict_sorted}\")"
   ]
  },
  {
   "cell_type": "code",
   "execution_count": 49,
   "id": "3a1157bf-2aee-44ac-8bd3-3e89d22e2f72",
   "metadata": {},
   "outputs": [
    {
     "name": "stdin",
     "output_type": "stream",
     "text": [
      "Enter the number of entries you want to add to the dictionary:  2\n",
      "Enter the key:  d\n",
      "Enter the value:  3\n",
      "Enter the key:  d\n",
      "Enter the value:  2\n"
     ]
    },
    {
     "name": "stdout",
     "output_type": "stream",
     "text": [
      "Your created dictionary is:\n",
      "{'d': '2'}\n"
     ]
    }
   ],
   "source": [
    "# Q5) Write a python program to add key to a dictionary.\n",
    "my_dict = {}\n",
    "num_entries = int(input(\"Enter the number of entries you want to add to the dictionary: \"))\n",
    "# adding keys in value\n",
    "for i in range(num_entries):\n",
    "    key = input(\"Enter the key: \")\n",
    "    value = input(\"Enter the value: \")\n",
    "    my_dict[key] = value\n",
    "\n",
    "print(\"Your created dictionary is:\")\n",
    "print(my_dict)\n"
   ]
  },
  {
   "cell_type": "code",
   "execution_count": null,
   "id": "85cbe000-8072-4439-ba2f-1d47c52696c9",
   "metadata": {},
   "outputs": [],
   "source": []
  }
 ],
 "metadata": {
  "kernelspec": {
   "display_name": "Python 3 (ipykernel)",
   "language": "python",
   "name": "python3"
  },
  "language_info": {
   "codemirror_mode": {
    "name": "ipython",
    "version": 3
   },
   "file_extension": ".py",
   "mimetype": "text/x-python",
   "name": "python",
   "nbconvert_exporter": "python",
   "pygments_lexer": "ipython3",
   "version": "3.13.7"
  }
 },
 "nbformat": 4,
 "nbformat_minor": 5
}
