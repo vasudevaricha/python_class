{
 "cells": [
  {
   "cell_type": "code",
   "execution_count": 1,
   "id": "45ffdba5-89b0-4b63-afe7-98f47584f5d0",
   "metadata": {},
   "outputs": [
    {
     "name": "stdout",
     "output_type": "stream",
     "text": [
      "good '+' morning \n"
     ]
    }
   ],
   "source": [
    "print(\"good '+' morning \")"
   ]
  },
  {
   "cell_type": "code",
   "execution_count": 3,
   "id": "516677c6-8a38-48e4-8013-329e62e5a521",
   "metadata": {},
   "outputs": [
    {
     "name": "stdout",
     "output_type": "stream",
     "text": [
      "good  morning\n"
     ]
    }
   ],
   "source": [
    "print(\"good \"+\" morning\")"
   ]
  },
  {
   "cell_type": "code",
   "execution_count": 4,
   "id": "0e2aef5a-e4d5-4bb1-b5ef-6bba53b5c847",
   "metadata": {},
   "outputs": [],
   "source": [
    "length = len(\"good morning\")"
   ]
  },
  {
   "cell_type": "code",
   "execution_count": 5,
   "id": "34b7dabd-a2a8-48bf-a060-fe40ea907901",
   "metadata": {},
   "outputs": [
    {
     "name": "stdout",
     "output_type": "stream",
     "text": [
      "12\n"
     ]
    }
   ],
   "source": [
    "print(length)"
   ]
  },
  {
   "cell_type": "code",
   "execution_count": 17,
   "id": "bbd6ab3c-9c89-43fc-afc4-2b562812ad77",
   "metadata": {},
   "outputs": [
    {
     "name": "stdout",
     "output_type": "stream",
     "text": [
      "Lenghth of s1 is: 5\n",
      "Length of s2 is: 7\n",
      "length of s1 + s2 is: 12\n"
     ]
    }
   ],
   "source": [
    "s1= \"good \"\n",
    "s2= \"morning\"\n",
    "print(\"Lenghth of s1 is:\", len(s1))\n",
    "print(\"Length of s2 is:\", len(s2))\n",
    "s3=s1+s2\n",
    "print(\"length of s1 + s2 is:\", len(s3))"
   ]
  },
  {
   "cell_type": "code",
   "execution_count": 9,
   "id": "89f3bba1-742c-48a3-85a3-8b822df697ae",
   "metadata": {},
   "outputs": [
    {
     "name": "stdout",
     "output_type": "stream",
     "text": [
      "python+technology\n"
     ]
    }
   ],
   "source": [
    "print(\"python\" '+' \"technology\")"
   ]
  },
  {
   "cell_type": "code",
   "execution_count": 10,
   "id": "5f71e7a8-6de6-46b5-a0b2-2261f026278b",
   "metadata": {},
   "outputs": [
    {
     "ename": "TypeError",
     "evalue": "can only concatenate str (not \"float\") to str",
     "output_type": "error",
     "traceback": [
      "\u001b[31m---------------------------------------------------------------------------\u001b[39m",
      "\u001b[31mTypeError\u001b[39m                                 Traceback (most recent call last)",
      "\u001b[36mCell\u001b[39m\u001b[36m \u001b[39m\u001b[32mIn[10]\u001b[39m\u001b[32m, line 1\u001b[39m\n\u001b[32m----> \u001b[39m\u001b[32m1\u001b[39m \u001b[38;5;28mprint\u001b[39m(\u001b[33;43m\"\u001b[39;49m\u001b[33;43mpython \u001b[39;49m\u001b[33;43m\"\u001b[39;49m\u001b[43m \u001b[49m\u001b[43m+\u001b[49m\u001b[43m \u001b[49m\u001b[32;43m3.5\u001b[39;49m)\n",
      "\u001b[31mTypeError\u001b[39m: can only concatenate str (not \"float\") to str"
     ]
    }
   ],
   "source": [
    "print(\"python \" + 3.5)"
   ]
  },
  {
   "cell_type": "code",
   "execution_count": 11,
   "id": "d0dfec5c-260c-4432-91ef-7596b0a86e21",
   "metadata": {},
   "outputs": [
    {
     "name": "stdout",
     "output_type": "stream",
     "text": [
      "python 3.5\n"
     ]
    }
   ],
   "source": [
    "print(\"python \"+ \"3.5\")"
   ]
  },
  {
   "cell_type": "code",
   "execution_count": 13,
   "id": "2149453f-e2c0-43f9-b2bc-a8181dbf4094",
   "metadata": {},
   "outputs": [
    {
     "name": "stdout",
     "output_type": "stream",
     "text": [
      "1234\n"
     ]
    }
   ],
   "source": [
    "print(\"12\"+\"34\")"
   ]
  },
  {
   "cell_type": "code",
   "execution_count": 18,
   "id": "73dc975a-a7a7-480f-bbec-75afd6c66081",
   "metadata": {},
   "outputs": [
    {
     "name": "stdout",
     "output_type": "stream",
     "text": [
      "goodgoodgoodgoodgood\n"
     ]
    }
   ],
   "source": [
    "print(\"good\"*5)"
   ]
  },
  {
   "cell_type": "code",
   "execution_count": 20,
   "id": "476a30d5-90f2-4115-9fac-54ee7b98f578",
   "metadata": {},
   "outputs": [
    {
     "name": "stdout",
     "output_type": "stream",
     "text": [
      "goodgoodgoodgoodgood\n"
     ]
    }
   ],
   "source": [
    "print(5*\"good\")"
   ]
  },
  {
   "cell_type": "code",
   "execution_count": 23,
   "id": "e2125618-2333-48a5-9b6a-d3469fe8f238",
   "metadata": {},
   "outputs": [
    {
     "name": "stdout",
     "output_type": "stream",
     "text": [
      "python is Easy !!!\n",
      "p\n"
     ]
    }
   ],
   "source": [
    "str =(\"python is Easy !!!\")\n",
    "print(str)\n",
    "print(str[0])"
   ]
  },
  {
   "cell_type": "raw",
   "id": "d3f659d5-ab05-4423-aea0-25198e8e8646",
   "metadata": {},
   "source": [
    "print(str[3:9])"
   ]
  },
  {
   "cell_type": "code",
   "execution_count": 24,
   "id": "c3ae2972-e5e0-44df-8361-595fe5c0f66b",
   "metadata": {},
   "outputs": [
    {
     "name": "stdout",
     "output_type": "stream",
     "text": [
      "hon is\n"
     ]
    }
   ],
   "source": [
    "print(str[3:9])"
   ]
  },
  {
   "cell_type": "code",
   "execution_count": 25,
   "id": "50b7e289-93eb-4b2b-8bb8-28099ef75553",
   "metadata": {},
   "outputs": [
    {
     "name": "stdout",
     "output_type": "stream",
     "text": [
      "on is Easy !!!\n"
     ]
    }
   ],
   "source": [
    "print(str[4:])"
   ]
  },
  {
   "cell_type": "code",
   "execution_count": 26,
   "id": "4f0ce37c-9e7c-4995-9aed-594962663827",
   "metadata": {},
   "outputs": [
    {
     "name": "stdout",
     "output_type": "stream",
     "text": [
      "!\n"
     ]
    }
   ],
   "source": [
    "print(str[-1])"
   ]
  },
  {
   "cell_type": "code",
   "execution_count": 27,
   "id": "dff046c7-78a4-4c48-b532-1a75bb2487bf",
   "metadata": {},
   "outputs": [
    {
     "name": "stdout",
     "output_type": "stream",
     "text": [
      "pytho\n"
     ]
    }
   ],
   "source": [
    "print(str[:5])"
   ]
  },
  {
   "cell_type": "code",
   "execution_count": 28,
   "id": "0d7d2e8c-31a7-409d-a1e8-94649d282f9f",
   "metadata": {},
   "outputs": [
    {
     "name": "stdout",
     "output_type": "stream",
     "text": [
      "What's your name?\n"
     ]
    }
   ],
   "source": [
    "print(\"What's your name?\")"
   ]
  },
  {
   "cell_type": "code",
   "execution_count": 29,
   "id": "0c8bd8c6-810c-4bbb-9dc0-7f29e574e97c",
   "metadata": {},
   "outputs": [
    {
     "ename": "SyntaxError",
     "evalue": "unterminated string literal (detected at line 1) (1457554968.py, line 1)",
     "output_type": "error",
     "traceback": [
      "  \u001b[36mCell\u001b[39m\u001b[36m \u001b[39m\u001b[32mIn[29]\u001b[39m\u001b[32m, line 1\u001b[39m\n\u001b[31m    \u001b[39m\u001b[31mprinr('What's your name?')\u001b[39m\n                            ^\n\u001b[31mSyntaxError\u001b[39m\u001b[31m:\u001b[39m unterminated string literal (detected at line 1)\n"
     ]
    }
   ],
   "source": [
    "prinr('What's your name?')"
   ]
  },
  {
   "cell_type": "code",
   "execution_count": 30,
   "id": "66653c98-3c9c-40ed-ad7b-0ee0674c0ab4",
   "metadata": {},
   "outputs": [
    {
     "name": "stdout",
     "output_type": "stream",
     "text": [
      "What's your name?\n"
     ]
    }
   ],
   "source": [
    "print('What\\'s your name?')"
   ]
  },
  {
   "cell_type": "code",
   "execution_count": 31,
   "id": "528fae63-e3fe-4a6d-90ae-4c2ac15ad36a",
   "metadata": {},
   "outputs": [
    {
     "ename": "SyntaxError",
     "evalue": "invalid syntax. Perhaps you forgot a comma? (2206258236.py, line 1)",
     "output_type": "error",
     "traceback": [
      "  \u001b[36mCell\u001b[39m\u001b[36m \u001b[39m\u001b[32mIn[31]\u001b[39m\u001b[32m, line 1\u001b[39m\n\u001b[31m    \u001b[39m\u001b[31mprint(\"The boy replies, \"My name is Aditya\"\")\u001b[39m\n          ^\n\u001b[31mSyntaxError\u001b[39m\u001b[31m:\u001b[39m invalid syntax. Perhaps you forgot a comma?\n"
     ]
    }
   ],
   "source": [
    "print(\"The boy replies, \"My name is Aditya\"\")"
   ]
  },
  {
   "cell_type": "code",
   "execution_count": 33,
   "id": "62363777-ca3b-4a6c-9c7a-8f6aa5469655",
   "metadata": {},
   "outputs": [
    {
     "name": "stdout",
     "output_type": "stream",
     "text": [
      "The boy replies, \"My name is Aditya\"\n"
     ]
    }
   ],
   "source": [
    "print(\"The boy replies, \\\"My name is Aditya\\\"\")"
   ]
  },
  {
   "cell_type": "code",
   "execution_count": 34,
   "id": "5d09cf50-1be2-48a2-b42c-1cf614e77bc4",
   "metadata": {},
   "outputs": [
    {
     "name": "stdout",
     "output_type": "stream",
     "text": [
      "The boy replies, \n",
      "\"My name is Aditya\"\n"
     ]
    }
   ],
   "source": [
    "print(\"The boy replies, \\n\\\"My name is Aditya\\\"\")"
   ]
  },
  {
   "cell_type": "code",
   "execution_count": 35,
   "id": "7e258bba-34ba-40ab-a873-adde1739210e",
   "metadata": {},
   "outputs": [
    {
     "name": "stdout",
     "output_type": "stream",
     "text": [
      "The boy replies, \t\"My name is Aditya\"\n"
     ]
    }
   ],
   "source": [
    "print(\"The boy replies, \\t\\\"My name is Aditya\\\"\")"
   ]
  },
  {
   "cell_type": "code",
   "execution_count": 37,
   "id": "bbf3e427-2ef1-4bfc-a3e5-183ffaa5b748",
   "metadata": {},
   "outputs": [
    {
     "name": "stdout",
     "output_type": "stream",
     "text": [
      "The boy replies,\\My name is Aditya\n"
     ]
    },
    {
     "name": "stderr",
     "output_type": "stream",
     "text": [
      "<>:1: SyntaxWarning: invalid escape sequence '\\M'\n",
      "<>:1: SyntaxWarning: invalid escape sequence '\\M'\n",
      "/var/folders/4t/v4c0n6f11xqb_dxxf8p1wc540000gn/T/ipykernel_5062/4238424016.py:1: SyntaxWarning: invalid escape sequence '\\M'\n",
      "  print(\"The boy replies,\\My name is Aditya\")\n"
     ]
    }
   ],
   "source": [
    "print(\"The boy replies,\\My name is Aditya\")"
   ]
  },
  {
   "cell_type": "code",
   "execution_count": 38,
   "id": "3ff2a232-8f55-45f1-895a-6f006c111079",
   "metadata": {},
   "outputs": [
    {
     "name": "stdout",
     "output_type": "stream",
     "text": [
      "\\\n"
     ]
    }
   ],
   "source": [
    "print(\"\\\\\")"
   ]
  },
  {
   "cell_type": "code",
   "execution_count": 39,
   "id": "c973fa0b-2d51-4ff3-bda5-2b3eb51680ca",
   "metadata": {},
   "outputs": [
    {
     "name": "stdout",
     "output_type": "stream",
     "text": [
      "'\n"
     ]
    }
   ],
   "source": [
    "print(\"\\'\")"
   ]
  },
  {
   "cell_type": "code",
   "execution_count": 40,
   "id": "65ef1eea-969c-4f7a-a3b7-accf0ff2b829",
   "metadata": {},
   "outputs": [
    {
     "name": "stdout",
     "output_type": "stream",
     "text": [
      "\"\n"
     ]
    }
   ],
   "source": [
    "print(\"\\\"\")"
   ]
  },
  {
   "cell_type": "code",
   "execution_count": 41,
   "id": "6911fe11-749b-4bcb-a0fa-6e74df9a27a6",
   "metadata": {},
   "outputs": [
    {
     "name": "stdout",
     "output_type": "stream",
     "text": [
      "hello\n",
      "world\n"
     ]
    }
   ],
   "source": [
    "print(\"hello\\nworld\")"
   ]
  },
  {
   "cell_type": "code",
   "execution_count": 42,
   "id": "0abc89e5-8488-43ad-ba8e-3df4d477475e",
   "metadata": {},
   "outputs": [
    {
     "name": "stdout",
     "output_type": "stream",
     "text": [
      "hello\tworld\n"
     ]
    }
   ],
   "source": [
    "print(\"hello\\tworld\")"
   ]
  },
  {
   "cell_type": "code",
   "execution_count": 44,
   "id": "c99668d0-4e9e-4119-9d94-68d56403a9c8",
   "metadata": {},
   "outputs": [
    {
     "name": "stdout",
     "output_type": "stream",
     "text": [
      ".\n"
     ]
    }
   ],
   "source": [
    "print(\"\\056\")"
   ]
  },
  {
   "cell_type": "code",
   "execution_count": 45,
   "id": "758c284e-fe38-44e5-9f9a-ad9ee0955b62",
   "metadata": {},
   "outputs": [
    {
     "name": "stdout",
     "output_type": "stream",
     "text": [
      ".\n"
     ]
    }
   ],
   "source": [
    "print(\"\\x2E\")"
   ]
  },
  {
   "cell_type": "code",
   "execution_count": 49,
   "id": "deb8188f-4c85-4cca-a764-09d36cfd7d78",
   "metadata": {},
   "outputs": [
    {
     "name": "stdout",
     "output_type": "stream",
     "text": [
      "\n"
     ]
    }
   ],
   "source": [
    "print(\"\\x87\")"
   ]
  },
  {
   "cell_type": "code",
   "execution_count": 50,
   "id": "659ecc0d-2151-4e33-bf14-4a7f674b7780",
   "metadata": {},
   "outputs": [
    {
     "name": "stdout",
     "output_type": "stream",
     "text": [
      "0o25403\n"
     ]
    }
   ],
   "source": [
    "print(oct(11011))"
   ]
  },
  {
   "cell_type": "code",
   "execution_count": 64,
   "id": "a0f7c472-3226-4349-8f29-e328bbfb129a",
   "metadata": {},
   "outputs": [
    {
     "name": "stdout",
     "output_type": "stream",
     "text": [
      "27\n"
     ]
    }
   ],
   "source": [
    "print(int(0b11011))"
   ]
  },
  {
   "cell_type": "code",
   "execution_count": 52,
   "id": "507dcd5b-e69e-44ef-ab17-87f3293c3e0a",
   "metadata": {},
   "outputs": [
    {
     "name": "stdout",
     "output_type": "stream",
     "text": [
      "0o63\n"
     ]
    }
   ],
   "source": [
    "print(oct(51))"
   ]
  },
  {
   "cell_type": "code",
   "execution_count": 60,
   "id": "113f714b-4783-41f1-a3bb-8a702528c8b6",
   "metadata": {},
   "outputs": [
    {
     "name": "stdout",
     "output_type": "stream",
     "text": [
      "240\n"
     ]
    }
   ],
   "source": [
    "print(int(0o360))"
   ]
  },
  {
   "cell_type": "code",
   "execution_count": 55,
   "id": "d5e61f7b-83a3-4011-84a4-fd12d6db5756",
   "metadata": {},
   "outputs": [
    {
     "name": "stdout",
     "output_type": "stream",
     "text": [
      "0x33\n"
     ]
    }
   ],
   "source": [
    "print(hex(51))"
   ]
  },
  {
   "cell_type": "code",
   "execution_count": 61,
   "id": "37b34f8b-d6a1-49b0-adfa-6ae6d2c84e6b",
   "metadata": {},
   "outputs": [
    {
     "name": "stdout",
     "output_type": "stream",
     "text": [
      "51\n"
     ]
    }
   ],
   "source": [
    "print(0x33)"
   ]
  },
  {
   "cell_type": "code",
   "execution_count": 65,
   "id": "214cbc27-2605-4657-9ea4-262652ecda41",
   "metadata": {},
   "outputs": [
    {
     "name": "stdout",
     "output_type": "stream",
     "text": [
      "0\n"
     ]
    }
   ],
   "source": [
    "x=10\n",
    "y=4\n",
    "print(x&y)"
   ]
  },
  {
   "cell_type": "code",
   "execution_count": 66,
   "id": "e06a7d3a-8025-49ed-8be4-ea99135e62b5",
   "metadata": {},
   "outputs": [
    {
     "name": "stdout",
     "output_type": "stream",
     "text": [
      "14\n"
     ]
    }
   ],
   "source": [
    "print(x|y)"
   ]
  },
  {
   "cell_type": "code",
   "execution_count": 69,
   "id": "b9311078-36f7-4d08-8c78-6b168a569ddc",
   "metadata": {},
   "outputs": [
    {
     "name": "stdout",
     "output_type": "stream",
     "text": [
      "-11\n"
     ]
    }
   ],
   "source": [
    "print(~x)"
   ]
  },
  {
   "cell_type": "code",
   "execution_count": 70,
   "id": "e2536f84-eb9e-4169-b9a6-dba66084ac07",
   "metadata": {},
   "outputs": [
    {
     "name": "stdout",
     "output_type": "stream",
     "text": [
      "-5\n"
     ]
    }
   ],
   "source": [
    "print(~y)"
   ]
  },
  {
   "cell_type": "code",
   "execution_count": 71,
   "id": "eb91b126-0ca0-4b99-96d9-2a2bc28ae64a",
   "metadata": {},
   "outputs": [
    {
     "name": "stdout",
     "output_type": "stream",
     "text": [
      "14\n"
     ]
    }
   ],
   "source": [
    "print(x^y)"
   ]
  },
  {
   "cell_type": "code",
   "execution_count": 72,
   "id": "e0e258ec-73e7-483d-a166-cc0228b141c7",
   "metadata": {},
   "outputs": [
    {
     "name": "stdout",
     "output_type": "stream",
     "text": [
      "2\n"
     ]
    }
   ],
   "source": [
    "print(x>>2)"
   ]
  },
  {
   "cell_type": "code",
   "execution_count": 74,
   "id": "2ff22821-9149-437d-8804-e07472eb336b",
   "metadata": {},
   "outputs": [
    {
     "name": "stdout",
     "output_type": "stream",
     "text": [
      "80\n"
     ]
    }
   ],
   "source": [
    "print(x<<3)"
   ]
  },
  {
   "cell_type": "code",
   "execution_count": 75,
   "id": "adcf023d-132a-47a8-87b1-0cc1b8fb6c2a",
   "metadata": {},
   "outputs": [
    {
     "name": "stdout",
     "output_type": "stream",
     "text": [
      "x is y False\n"
     ]
    }
   ],
   "source": [
    "x = [1,2]\n",
    "y = [1,2]\n",
    "print(\"x is y\" , x is y)"
   ]
  },
  {
   "cell_type": "code",
   "execution_count": 77,
   "id": "5e712bd3-916c-48ff-941b-1619236e656f",
   "metadata": {},
   "outputs": [
    {
     "name": "stdout",
     "output_type": "stream",
     "text": [
      "True\n"
     ]
    }
   ],
   "source": [
    "z=x\n",
    "print(x is z)"
   ]
  },
  {
   "cell_type": "code",
   "execution_count": 79,
   "id": "da25ce37-2863-4625-adc7-644f441e76a4",
   "metadata": {},
   "outputs": [
    {
     "name": "stdout",
     "output_type": "stream",
     "text": [
      "x1 is not y1:  True\n",
      "x2 is y2:  False\n",
      "x3 is y3:  False\n"
     ]
    }
   ],
   "source": [
    "x1 = 5\n",
    "x2 = 5\n",
    "y1 = \"hello\"\n",
    "y2 = \"hello\"\n",
    "x3 = [1,2,3]\n",
    "y3 = [1,2,3]\n",
    "print(\"x1 is not y1: \", x1 is not y1)\n",
    "print(\"x2 is y2: \", x2 is y2)\n",
    "print(\"x3 is y3: \", x3 is y3)\n"
   ]
  },
  {
   "cell_type": "markdown",
   "id": "8260fe2b-32de-45aa-bf08-153231067b7e",
   "metadata": {
    "jp-MarkdownHeadingCollapsed": true
   },
   "source": [
    "a,b =10, 20\n",
    "min = a if a<b else b\n",
    "print(min)"
   ]
  },
  {
   "cell_type": "code",
   "execution_count": 86,
   "id": "724c70dc-c17e-48a4-a97e-5bb84cfbd695",
   "metadata": {},
   "outputs": [
    {
     "name": "stdout",
     "output_type": "stream",
     "text": [
      "{1: 'a', 2: 'b'}\n",
      "Is H present in the message: True\n",
      "if \"HELLO\" is present in the message True\n",
      "check if '1' key is present in dictionary:  True\n",
      "check if value 'a' is present in dictionary: False\n"
     ]
    }
   ],
   "source": [
    "message = \"HELLO WORLD\"\n",
    "dict = {1:'a',2:'b'}\n",
    "print(dict)\n",
    "print(\"Is H present in the message:\" , 'H' in message)\n",
    "print(\"if \\\"HELLO\\\" is present in the message\", 'HELLO' in message)\n",
    "print(\"check if '1' key is present in dictionary: \", 1 in dict)\n",
    "print(\"check if value 'a' is present in dictionary:\", 'a' in dict)"
   ]
  },
  {
   "cell_type": "code",
   "execution_count": 91,
   "id": "367cc6a5-5dd7-4649-b0b6-53c90654953b",
   "metadata": {},
   "outputs": [
    {
     "name": "stdout",
     "output_type": "stream",
     "text": [
      "positive\n"
     ]
    }
   ],
   "source": [
    "x=5\n",
    "result=\"positive\" if x>0 else \"negative\"\n",
    "print(result)"
   ]
  },
  {
   "cell_type": "code",
   "execution_count": 92,
   "id": "2fd76d3a-dd5c-43dc-9bf9-13bbe9d0aa8d",
   "metadata": {},
   "outputs": [
    {
     "name": "stdout",
     "output_type": "stream",
     "text": [
      "neg\n"
     ]
    }
   ],
   "source": [
    "x=-2\n",
    "res=\"pos\" if x>0 else \"neg\"\n",
    "print(res)"
   ]
  },
  {
   "cell_type": "code",
   "execution_count": 94,
   "id": "b5c40914-af45-44ff-99cd-da2b6ede8a66",
   "metadata": {},
   "outputs": [
    {
     "name": "stdout",
     "output_type": "stream",
     "text": [
      "610\n"
     ]
    }
   ],
   "source": [
    "expr = 10+20*30\n",
    "print(expr)"
   ]
  },
  {
   "cell_type": "code",
   "execution_count": 95,
   "id": "9a03bf7a-5835-4020-8309-e0047a9c511e",
   "metadata": {},
   "outputs": [
    {
     "name": "stdout",
     "output_type": "stream",
     "text": [
      "180.0\n"
     ]
    }
   ],
   "source": [
    "e2 = (40+20)*30/10\n",
    "print(e2)"
   ]
  },
  {
   "cell_type": "code",
   "execution_count": 96,
   "id": "7ced8d79-1664-4328-a03a-4e49eb9e93e6",
   "metadata": {},
   "outputs": [
    {
     "name": "stdout",
     "output_type": "stream",
     "text": [
      "100.0\n"
     ]
    }
   ],
   "source": [
    "print(40+(20*30)/10)"
   ]
  },
  {
   "cell_type": "code",
   "execution_count": null,
   "id": "a533b344-8b40-4a96-90bf-dcd9049dfd90",
   "metadata": {},
   "outputs": [
    {
     "name": "stdout",
     "output_type": "stream",
     "text": [
      "enter lunch\n"
     ]
    }
   ],
   "source": [
    "lunch = input(print(\"enter lunch\"))\n",
    "money = int(input(print(\"enter money\")))\n",
    "if ((lunch == \"fruit\" or lunch == \"sandwich\") and money>=2):\n",
    "  print(\"success\")\n",
    "else:\n",
    "    print(\"not run\")\n",
    "\n",
    "\n"
   ]
  },
  {
   "cell_type": "code",
   "execution_count": 98,
   "id": "af7e292f-195d-4dcd-8e78-944d209f7761",
   "metadata": {},
   "outputs": [
    {
     "data": {
      "text/plain": [
       "True"
      ]
     },
     "execution_count": 98,
     "metadata": {},
     "output_type": "execute_result"
    }
   ],
   "source": [
    "False == False or True"
   ]
  },
  {
   "cell_type": "code",
   "execution_count": 99,
   "id": "2c351400-4f83-41c0-a118-631a331679c2",
   "metadata": {},
   "outputs": [
    {
     "data": {
      "text/plain": [
       "False"
      ]
     },
     "execution_count": 99,
     "metadata": {},
     "output_type": "execute_result"
    }
   ],
   "source": [
    "False == (False or True)\n"
   ]
  },
  {
   "cell_type": "code",
   "execution_count": 100,
   "id": "1fb10d24-8056-4ef2-b115-e80634230094",
   "metadata": {},
   "outputs": [
    {
     "name": "stdout",
     "output_type": "stream",
     "text": [
      "100.0\n"
     ]
    }
   ],
   "source": [
    "print(100/10*10)"
   ]
  },
  {
   "cell_type": "code",
   "execution_count": null,
   "id": "72eec523-2b8f-435d-9c39-9391c63d33e5",
   "metadata": {},
   "outputs": [],
   "source": []
  }
 ],
 "metadata": {
  "kernelspec": {
   "display_name": "Python 3 (ipykernel)",
   "language": "python",
   "name": "python3"
  },
  "language_info": {
   "codemirror_mode": {
    "name": "ipython",
    "version": 3
   },
   "file_extension": ".py",
   "mimetype": "text/x-python",
   "name": "python",
   "nbconvert_exporter": "python",
   "pygments_lexer": "ipython3",
   "version": "3.13.7"
  }
 },
 "nbformat": 4,
 "nbformat_minor": 5
}
