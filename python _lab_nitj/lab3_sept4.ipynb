{
 "cells": [
  {
   "cell_type": "code",
   "execution_count": 2,
   "id": "1f932cd8-5928-4dca-bb4a-f7d08d2ec8c1",
   "metadata": {},
   "outputs": [
    {
     "name": "stdin",
     "output_type": "stream",
     "text": [
      "what's your name? Richa\n",
      "enter your age 27\n"
     ]
    },
    {
     "name": "stdout",
     "output_type": "stream",
     "text": [
      "Richa you are 27 years old\n"
     ]
    }
   ],
   "source": [
    "#input command to take input from the use\n",
    "name=input(\"what's your name?\")\n",
    "age =input(\"enter your age\")#would be entered as string\n",
    "print(name+\" you are \"+age+\" years old\")"
   ]
  },
  {
   "cell_type": "code",
   "execution_count": 6,
   "id": "f63766c8-8d69-4d29-8e30-d6f84c8a39da",
   "metadata": {},
   "outputs": [
    {
     "name": "stdin",
     "output_type": "stream",
     "text": [
      "Enter a number 16\n"
     ]
    },
    {
     "name": "stdout",
     "output_type": "stream",
     "text": [
      "Hexadecimal of the number  16  is: 0x10\n",
      "Octal value of the number  16  is: 0o20\n",
      "Square Root of the number  16  is: 4.0\n"
     ]
    }
   ],
   "source": [
    "# WAP to enter a number and display its hexa octal and square root\n",
    "import math\n",
    "no = int(input(\"Enter a number\"))\n",
    "print(\"Hexadecimal of the number \",no,\" is:\",hex(no))\n",
    "print(\"Octal value of the number \",no,\" is:\",oct(no))\n",
    "print(\"Square Root of the number \",no,\" is:\",math.sqrt(no))"
   ]
  },
  {
   "cell_type": "code",
   "execution_count": 11,
   "id": "df30c30d-4f5b-4035-98e3-838f5967d465",
   "metadata": {},
   "outputs": [
    {
     "name": "stdin",
     "output_type": "stream",
     "text": [
      "Enter first side of triangle 3\n",
      "enter second side of triangle 4\n",
      "enter third sidd of triangle 5\n"
     ]
    },
    {
     "name": "stdout",
     "output_type": "stream",
     "text": [
      "Area of triangle is:  6.0\n"
     ]
    }
   ],
   "source": [
    "# calculate area of triangle using herons formulae\n",
    "import math\n",
    "a=int(input(\"Enter first side of triangle\"))\n",
    "b=int(input(\"enter second side of triangle\"))\n",
    "c=int(input(\"enter third sidd of triangle\"))\n",
    "s=(a+b+c)/2\n",
    "area = math.sqrt((s*(s-a)*(s-b)*(s-c)))\n",
    "print(\"Area of triangle is: \",area) "
   ]
  },
  {
   "cell_type": "code",
   "execution_count": 13,
   "id": "bf00e33b-cb73-4cca-ba3a-183216733dc6",
   "metadata": {},
   "outputs": [
    {
     "name": "stdin",
     "output_type": "stream",
     "text": [
      "enter side 3\n",
      "enter side 4\n",
      "enter side 5\n"
     ]
    },
    {
     "name": "stdout",
     "output_type": "stream",
     "text": [
      "ares is  6.0\n"
     ]
    }
   ],
   "source": [
    "#method 2 to solve the ques\n",
    "import math\n",
    "sides =[]\n",
    "for i in range(3):\n",
    "    a = int(input(\"enter side\"))\n",
    "    sides.append(a)\n",
    "s1=0\n",
    "for j in sides:\n",
    "    s1=s1+j\n",
    "s=s1/2\n",
    "area = math.sqrt(s*(s-sides[0])*(s-sides[1])*(s-sides[2]))\n",
    "print(\"ares is \",area)"
   ]
  },
  {
   "cell_type": "code",
   "execution_count": 16,
   "id": "31eb8eb6-151e-496c-8362-65cde9c2b6af",
   "metadata": {},
   "outputs": [
    {
     "name": "stdin",
     "output_type": "stream",
     "text": [
      "enter x cordinate of point 1 2\n",
      "enter x cordinate of point 2 2\n",
      "enter y cordinate of point 1 4\n",
      "enter y cordinate if point 2 4\n"
     ]
    },
    {
     "name": "stdout",
     "output_type": "stream",
     "text": [
      "distance between (2,4) and (2,4) is: 0.0\n"
     ]
    }
   ],
   "source": [
    "#wap to calculate distance between 2 co ordinate points\n",
    "import math\n",
    "x1= int(input(\"enter x cordinate of point 1\"))\n",
    "x2 =int(input(\"enter x cordinate of point 2\"))\n",
    "y1 = int(input(\"enter y cordinate of point 1\"))\n",
    "y2 =int(input(\"enter y cordinate if point 2\"))\n",
    "dist = math.sqrt((((x2-x1)**2)+((y2-y1)**2)))\n",
    "print(f\"distance between ({x1},{y1}) and ({x2},{y2}) is: {dist}\")"
   ]
  },
  {
   "cell_type": "code",
   "execution_count": 18,
   "id": "3536424b-6ebe-4204-b5f2-ca1094b6fb92",
   "metadata": {},
   "outputs": [
    {
     "name": "stdin",
     "output_type": "stream",
     "text": [
      "enter floating no 1 16\n",
      "enter floating no 2 4\n"
     ]
    },
    {
     "name": "stdout",
     "output_type": "stream",
     "text": [
      "Addition of numbers 16.0 and 4.0 is: 20.0\n",
      "Substraction of numbers 16.0 and 4.0 is: 12.0\n",
      "Multiplication of numbers 16.0 and 4.0 is: 64.0\n",
      "Division of numbers 16.0 and 4.0 is;  4.0\n"
     ]
    }
   ],
   "source": [
    "# add sub mul adn divide two floating points\n",
    "a=float(input(\"enter floating no 1\"))\n",
    "b=float(input(\"enter floating no 2\"))\n",
    "print(f\"Addition of numbers {a} and {b} is:\" ,(a+b))\n",
    "print(f\"Substraction of numbers {a} and {b} is:\",(a-b))\n",
    "print(f\"Multiplication of numbers {a} and {b} is:\" ,(a*b))\n",
    "print(f\"Division of numbers {a} and {b} is; \",(a/b))\n",
    "    "
   ]
  },
  {
   "cell_type": "markdown",
   "id": "d9314a45-c7d8-4718-8b87-c28876452e57",
   "metadata": {},
   "source": [
    "qnt=int(input(\"Enter quantity sold\"))\n",
    "price= int(input(\"Enter price per commodity\"))\n",
    "dis= float(input(\"Enter discount percentage\"))\n",
    "tax=float(input(\"enter tax percentage to be paid\"))\n",
    "amt = qnt*price\n",
    "total_dis = (dis/100)*amt\n",
    "tax_tot = (tax/100)*amt\n",
    "total_amt = amt+tax_tot-total_dis\n",
    "print(\"*\"*10+\"BILL\"+\"*\"*10)\n",
    "print(\"Quantity Sold:\",format(qnt,'>9'))\n",
    "print(\"Amount:\",format(amt,'>17'))\n",
    "print(\"Discount:\",format(dis,'>16'),\"%\")\n",
    "print(\"Total Discount:\",format(total_dis,'>11'))\n",
    "print(\"Tax:\",format(tax_tot,'>22'))\n",
    "print(\"Total amount to be paid: \",total_amt)\n",
    "\n"
   ]
  },
  {
   "cell_type": "code",
   "execution_count": 54,
   "id": "d2f4adf0-58ae-4a89-898b-1734e244608b",
   "metadata": {},
   "outputs": [
    {
     "name": "stdin",
     "output_type": "stream",
     "text": [
      "enter marks of sub 1 out of 100 90\n",
      "enter marks of sub 2 out of 100 90\n",
      "enter score of sports event out of 100 90\n",
      "enter score in activity 1 90\n",
      "enter score in activity 2 90\n",
      "enter score in activity 3 90\n"
     ]
    },
    {
     "name": "stdout",
     "output_type": "stream",
     "text": [
      "TOTAL marks are: 63.0 %\n"
     ]
    }
   ],
   "source": [
    "# wap to calculate student result based on 2 exams , 1 sport and  3 activities\n",
    "#weigtage pf each acivity is 30% and of sports event 20% and exam 50%\n",
    "m1 = int(input(\"enter marks of sub 1 out of 100\"))\n",
    "m2 = int(input(\"enter marks of sub 2 out of 100\"))\n",
    "s1 =int(input(\"enter score of sports event out of 100\"))\n",
    "act =[]\n",
    "for i in range(0,3):\n",
    "    a1=int(input(f\"enter score in activity {i+1}\"))\n",
    "    act.append(a1)\n",
    "act_tot=0\n",
    "for j in act:\n",
    "    act_tot=act_tot+j\n",
    "marks=m1+m2\n",
    "total = (((marks*0.50)+(s1*0.20)+(act_tot*0.30))/300)*100\n",
    "print(\"TOTAL marks are:\",total,\"%\")\n",
    "    "
   ]
  },
  {
   "cell_type": "code",
   "execution_count": 56,
   "id": "8f0e2311-07cb-49e3-8cca-db8a5c75a293",
   "metadata": {},
   "outputs": [
    {
     "name": "stdin",
     "output_type": "stream",
     "text": [
      "Enter temperature in farenheit 98.4\n"
     ]
    },
    {
     "name": "stdout",
     "output_type": "stream",
     "text": [
      "98.4 degree F in Celcuis is 66.4 C\n"
     ]
    }
   ],
   "source": [
    "#wap to covnert degree farenheit to celcius\n",
    "far = float(input(\"Enter temperature in farenheit\"))\n",
    "cel = 5*(far-32)/5\n",
    "print(f\"{far} degree F in Celcuis is {cel} C\")\n",
    "\n",
    "#wap to calculate total amount of money in piggy bank given coins of rs 10,5 and 2 and 1"
   ]
  },
  {
   "cell_type": "code",
   "execution_count": 59,
   "id": "e6cf23a1-f06a-4f7a-a985-1d41ab14bc71",
   "metadata": {},
   "outputs": [
    {
     "name": "stdin",
     "output_type": "stream",
     "text": [
      "Enter no of 2 rupees coin  3\n",
      "enter no of 5 rupees coin 3\n",
      "enter no of 10 rupees coin 33\n",
      "enter no of 1 rupee coin 3\n"
     ]
    },
    {
     "name": "stdout",
     "output_type": "stream",
     "text": [
      "Total amount in piggy bank is:354\n"
     ]
    }
   ],
   "source": [
    "two= int(input(\"Enter no of 2 rupees coin \"))\n",
    "five =int(input(\"enter no of 5 rupees coin\"))\n",
    "ten =int(input(\"enter no of 10 rupees coin\"))\n",
    "one =int(input(\"enter no of 1 rupee coin\"))\n",
    "tot = (2*two)+(one*1)+(five*5)+(ten*10)\n",
    "print(f\"Total amount in piggy bank is:{tot}\")"
   ]
  },
  {
   "cell_type": "code",
   "execution_count": null,
   "id": "f494c19d-e690-425c-a101-1a7403239b9e",
   "metadata": {},
   "outputs": [],
   "source": []
  }
 ],
 "metadata": {
  "kernelspec": {
   "display_name": "Python 3 (ipykernel)",
   "language": "python",
   "name": "python3"
  },
  "language_info": {
   "codemirror_mode": {
    "name": "ipython",
    "version": 3
   },
   "file_extension": ".py",
   "mimetype": "text/x-python",
   "name": "python",
   "nbconvert_exporter": "python",
   "pygments_lexer": "ipython3",
   "version": "3.13.7"
  }
 },
 "nbformat": 4,
 "nbformat_minor": 5
}
